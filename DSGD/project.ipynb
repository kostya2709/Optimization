{
 "cells": [
  {
   "cell_type": "markdown",
   "metadata": {},
   "source": [
    "# Decentralized Distributed Optimization"
   ]
  },
  {
   "cell_type": "markdown",
   "metadata": {},
   "source": [
    "The target of the current work is to explore one of the efficient way of optimization, which is really popular nowadays - decentralized distributed optimization. Let's consider the modern approach to solution."
   ]
  },
  {
   "cell_type": "markdown",
   "metadata": {},
   "source": [
    "We are trying to solve such an optimization problem with sum-type functional\n",
    "$$f^* = \\min_{x \\in \\mathbb{R}^d}\\left[f(x)\\coloneqq \\frac{1}{n}\\sum \\limits_{i=1}^{n}f_i(x)\\right].$$\n",
    "Each $f_i$ defined in stochastic form\n",
    "$$f_i(x)\\coloneqq \\mathbb{E}_{\\xi_i \\sim \\mathbb{D_i}}F_i(x, \\xi_i),$$\n",
    "where $\\xi_i$ is a random variable with distribution $\\mathbb{D_i}$."
   ]
  },
  {
   "cell_type": "markdown",
   "metadata": {},
   "source": [
    "It is important to note that we do not make any assumptions on the distributions $\\mathbb{D_i}$. This means that we especially cover hard heterogeneous machine learning problems where data is only available locally to each worker $i \\in [n] := {1, \\ldots, n}$ and the local minima $x_i^*:=argmin_{x \\in \\mathbb{R^d}}f_i(x)$ can be far away from the global minimizer of $(1)$."
   ]
  },
  {
   "cell_type": "markdown",
   "metadata": {},
   "source": [
    "# Assumptions on the objective function $f$"
   ]
  },
  {
   "cell_type": "markdown",
   "metadata": {},
   "source": [
    "For all our theoretical results we assume that $f$ is smooth."
   ]
  },
  {
   "cell_type": "markdown",
   "metadata": {},
   "source": [
    "$\\textbf{Assumption 1a}$ ($L$-smoothness). Each function $F_i(x, \\xi): \\mathbb{R^d} \\times \\Omega_i \\rightarrow \\mathbb{R}, i \\in [n]$ is differentiable for each $\\xi \\in supp(\\mathbb{D_i})$ and there exists a constant $L \\geq 0$ such that for each $\\mathbf{x, y} \\in \\mathbb{R}, \\xi \\in supp(\\mathbb{D_i}):$\n",
    "$$\\|\\nabla F_i(\\mathbf{y}, \\xi) - \\nabla F_i(\\mathbf{x}, \\xi)\\| \\leq L\\|\\mathbf{x - y}\\|.$$"
   ]
  },
  {
   "cell_type": "markdown",
   "metadata": {},
   "source": [
    "Sometimes it will be enough to just assume smoothness of $f_i$ instead."
   ]
  },
  {
   "cell_type": "markdown",
   "metadata": {},
   "source": [
    "$\\textbf{Assumption 1b}$ ($L$-smoothness). Each function $f_i(x): \\mathbb{R^d} \\rightarrow \\mathbb{R}, i \\in [n]$ is differentiable and there exists a constant $L \\geq 0$ such that for each $\\mathbf{x, y} \\in \\mathbb{R}:$\n",
    "$$\\|\\nabla f_i(\\mathbf{y}, \\xi) - \\nabla f_i(\\mathbf{x}, \\xi)\\| \\leq L\\|\\mathbf{x - y}\\|.$$"
   ]
  },
  {
   "cell_type": "markdown",
   "metadata": {},
   "source": [
    "$\\mathbf{Assumption\\ 2}$ ($\\mu$-convexity). Each function $f_i(x): \\mathbb{R^d} \\rightarrow \\mathbb{R}, i \\in [n]$ is $\\mu$-(strongly) convex for constant $\\mu \\geq 0$. That is for all, $\\mathbf{x, y} \\in \\mathbb{R^d}:$\n",
    "$$f_i(x) - f_i(y) + \\frac{\\mu}{2}\\|x-y\\|_2^2\\leq \\langle\\nabla f_i(x), x - y\\rangle.$$"
   ]
  },
  {
   "cell_type": "markdown",
   "metadata": {},
   "source": [
    "$\\mathbf{Assumption 3a}$ (Bounded noise at the optimum). Let $\\mathbf{x}^* = arg min f(\\mathbf{x})$ and define\n",
    "$$\\zeta_i^2:= \\|\\nabla f_i(\\mathbf{x^*})\\|_2^2,\\ \\bar{\\zeta}^2:=\\frac{1}{n}\\sum\\limits_{i=1}^n\\zeta_i^2,$$\n",
    "$$\\sigma_i^2:=\\mathbb{E}_{\\xi_i}\\|\\nabla F_i(\\mathbf{x^*, \\xi_i}) - \\nabla f_i(\\mathbf{x^*})\\|_2^2,$$\n",
    "$$\\bar{\\sigma}^2:=\\frac{1}{n}\\sum\\limits_{i=1}^n\\sigma_i^2.$$"
   ]
  },
  {
   "cell_type": "markdown",
   "metadata": {},
   "source": [
    "Thus, $\\bar{\\sigma}^2$ measures the noise level, and $\\bar{\\zeta}^2$ the divirsity of the function $f_i$. We assume them to be bounded, but not everywhere, only at $\\mathbb{x^*}$. For non-convex case we generalize Assumption 3a to:"
   ]
  },
  {
   "cell_type": "markdown",
   "metadata": {},
   "source": [
    "$\\mathbf{Assumption 3b}$ (Bounded noise). We assume that there exists constants $P, \\hat{\\zeta}$ such that $\\forall x \\in \\mathbb{R^d}$,\n",
    "$$\\frac{1}{n}\\sum\\limits_{i=1}^{n}\\|\\nabla f_i(x)\\|_2^2\\leq\\hat{\\zeta^2} + P\\|\\nabla f(x)\\|_2^2,$$\n",
    "and constant $M, \\hat{\\sigma}$ such that $\\forall x_1, \\ldots, x_n \\in \\mathbb{R^d}$\n",
    "$$\\Psi \\leq \\hat{\\sigma^2} + \\frac{M}{n}\\sum_{i = 1}^{n}\\|\\nabla f_i(x_i)\\|_2^2,$$\n",
    "$$where \\Psi := \\frac{1}{n} \\sum\\limits_{i = 1}^{n}\\mathbb{E}_{\\xi_i}\\|\\nabla F_i(x_i, \\xi_i) - \\nabla f_i(x_i)\\|_2^2.$$"
   ]
  },
  {
   "cell_type": "markdown",
   "metadata": {},
   "source": [
    "$\\mathbf{Assumption\\ 4}(Expected Consensus Rate). We assume that there exists two constants $p\\in (0,1]$ and integer $\\tau \\geq 1$ such that for all matrices $X\\in \\mathbb{R^{d\\times n}}$ and all integers $l\\in\\{0,\\ldots, (l+1)\\tau - 1\\},$\n",
    "$$\\mathbb{E}_W\\|XW_{l, \\tau} - \\bar{X}\\|_F^2\\leq(1-p)\\|X-\\bar{X}\\|^2_F,$$\n",
    "where $W_{l, \\tau} = W^{((l + 1)\\tau-1)}\\ldots W^{(l\\tau)}$ and $\\bar{X}:=X\\frac{\\mathbf{11}^T}{n}$ and $\\mathbb{E}$ is taken over the distributions $W^{(t)}\\sim\\mathbb{W^{(t)}}$ and indices $t \\in \\{l_{\\tau},\\ldots, (l + 1)\\tau - 1\\}.$"
   ]
  },
  {
   "cell_type": "markdown",
   "metadata": {},
   "source": []
  },
  {
   "cell_type": "markdown",
   "metadata": {},
   "source": []
  },
  {
   "cell_type": "markdown",
   "metadata": {},
   "source": [
    "# Decentralized (Gossip) SGD"
   ]
  },
  {
   "cell_type": "markdown",
   "metadata": {},
   "source": [
    "This method allows only decentralized communications. That is, the exchange of information (through gossip averaging) can only occur\n",
    "between connected nodes (neighbors). The algorithm (outlined in Algorithm 1) consists of two phases: (i) stochastic\n",
    "gradient updates, performed locally on each worker (lines\n",
    "4–5), followed by a (ii) consensus operation, where nodes\n",
    "average their values with their neighbors."
   ]
  },
  {
   "cell_type": "markdown",
   "metadata": {},
   "source": [
    "$$X^{(t + 1)} = X^{(t)}W^{(t)},$$"
   ]
  },
  {
   "cell_type": "markdown",
   "metadata": {},
   "source": [
    "where the mixing matrix $W^{(t)} \\in [0, 1]^{n\\times n}$ encodes the network structure at time $t$."
   ]
  },
  {
   "cell_type": "markdown",
   "metadata": {},
   "source": [
    "Now, let's implement the algorithm itself."
   ]
  },
  {
   "cell_type": "code",
   "execution_count": 26,
   "metadata": {},
   "outputs": [],
   "source": [
    "import numpy as np\n",
    "import matplotlib\n",
    "import matplotlib.pyplot as plt\n",
    "import pandas as pd\n",
    "from IPython.display import clear_output\n",
    "from scipy import stats\n",
    "\n",
    "import ray\n",
    "try:\n",
    "    ray.init()\n",
    "except:\n",
    "    pass\n",
    "\n",
    "matplotlib.rcParams.update({'font.size': 16})"
   ]
  },
  {
   "cell_type": "code",
   "execution_count": 27,
   "metadata": {},
   "outputs": [],
   "source": [
    "random_seed = 42\n",
    "np.random.seed(random_seed)\n",
    "# Define constant parameters\n",
    "\n",
    "dim = 2                                     # Dimension of the vectors.\n",
    "n = 2                                       # Number of functions f_i in the sum.\n",
    "mixing_matrix_distr = \\\n",
    "lambda t : stats.expon(0, 1 / (t + 1) + 1).rvs             # Mixing matrix distribution. Should be a function of t.\n",
    "T = 300\n",
    "\n",
    "# Constants for functions F_1 and F_2:\n",
    "\n",
    "A = np.eye(dim, dim) #+ np.random.normal(0, 1, (dim, dim))\n",
    "B = np.eye(dim, dim)# + np.random.normal(0, 1, (dim, dim))\n",
    "b = np.eye(dim, 1)# np.random.uniform(-2, 2, (dim, 1))"
   ]
  },
  {
   "cell_type": "markdown",
   "metadata": {},
   "source": [
    "Let's define functions $F_1$ in the following way:\n",
    "$$F_1(x, \\xi)=\\langle x, Ax\\rangle + \\langle x, b\\rangle + \\langle x, \\xi\\rangle$$"
   ]
  },
  {
   "cell_type": "markdown",
   "metadata": {},
   "source": [
    "Now let's calculate the gradient of the function:\n",
    "$$\\nabla F_1(x, \\xi) = (A + A^T)x + b + \\xi$$"
   ]
  },
  {
   "cell_type": "code",
   "execution_count": 28,
   "metadata": {},
   "outputs": [],
   "source": [
    "def F1(x, xi):\n",
    "    return x.T @ A @ x + x.T @ b + x.T @ xi\n",
    "\n",
    "def gradF1(x, xi):\n",
    "    return (A + A.T) @ x + b + xi"
   ]
  },
  {
   "cell_type": "markdown",
   "metadata": {},
   "source": [
    "Analogously, for $F_2$:\n",
    "$$F_2(x, \\xi)=\\langle x, Bx\\rangle - \\langle x, \\xi\\rangle$$\n",
    "$$\\nabla F_2(x, \\xi) = (B + B^T)x - \\xi$$"
   ]
  },
  {
   "cell_type": "code",
   "execution_count": 29,
   "metadata": {},
   "outputs": [],
   "source": [
    "def F2(x, xi):\n",
    "        return x.T @ B @ x - x.T @ xi\n",
    "\n",
    "def gradF2(x, xi):\n",
    "    return (B + B.T) @ x - xi"
   ]
  },
  {
   "cell_type": "markdown",
   "metadata": {},
   "source": [
    "# Approaches to choose the mixing matrix W"
   ]
  },
  {
   "cell_type": "markdown",
   "metadata": {},
   "source": [
    "$\\mathbf{Fixed\\ Sampling\\ Distribution.}$ The matrix $W$ is kept constant over the iterations. We can choose $W=\\frac{1}{n}\\mathbf{11}^T$, and recover $\\mathbf{centralized\\ mini-batch\\ SGD}$, or choose arbitrary connected $W$, we recover $\\mathbf{decentralized\\ SGD}$."
   ]
  },
  {
   "cell_type": "markdown",
   "metadata": {},
   "source": [
    "Three common network topologies are: ring, 2-d torus and fully-connected."
   ]
  },
  {
   "cell_type": "code",
   "execution_count": 30,
   "metadata": {},
   "outputs": [],
   "source": [
    "def get_FC():\n",
    "    return np.ones((dim, dim))"
   ]
  },
  {
   "cell_type": "code",
   "execution_count": 31,
   "metadata": {},
   "outputs": [],
   "source": [
    "def mixing_matrix(distr):\n",
    "    W = distr((n, n))                       # generate a random matrix from a given distribution\n",
    "    U = np.triu(W, k = 1)                   # lower-triangle matrix\n",
    "    diag = np.diag(np.diagonal(W))          # diagonal of the matrix W: (n * n)\n",
    "    W = U + U.T + diag                      # make the symmetric matrix\n",
    "    \n",
    "    # normalize it, so the sum of the indeces in a column(and in a row, as it is symmetric) is euqal 1\n",
    "    eps = 1e-4\n",
    "    for i in range(n):\n",
    "        left_sum = np.sum(W[i, 0 : i])\n",
    "        right_sum = np.sum(W[i, i:])\n",
    "        sum = right_sum / (1 - left_sum + eps)\n",
    "        W[i, i + 1:] = W[i, i + 1:] / sum\n",
    "        W[i:, i] = W[i:, i] / sum\n",
    "\n",
    "    assert np.all(W == W.T)\n",
    "    assert np.allclose(W @ np.ones((n, 1)), np.ones((n, 1)), atol=1e-3)\n",
    "    assert np.allclose(np.ones((1, n)) @ W, np.ones((1, n)), atol=1e-3)\n",
    "    assert np.all(W >= -eps) == np.all(W <= 1 + eps) \n",
    "    \n",
    "    return W"
   ]
  },
  {
   "cell_type": "code",
   "execution_count": 32,
   "metadata": {},
   "outputs": [],
   "source": [
    "np.random.seed(random_seed)\n",
    "\n",
    "X = np.random.uniform(0, 1, (dim, n))\n",
    "step_size = np.ones(T) * 0.01\n",
    "gradF = [gradF1, gradF2]"
   ]
  },
  {
   "cell_type": "code",
   "execution_count": 33,
   "metadata": {},
   "outputs": [],
   "source": [
    "D = stats.norm(0, 1).rvs\n",
    "\n",
    "@ray.remote\n",
    "def gradient_update(gradF, x_i, step):\n",
    "    \"\"\"\n",
    "    In parallel (task for worker i)\n",
    "    \"\"\"\n",
    "    xi_t = D(size=(dim, 1))\n",
    "    g_i = gradF(x_i, xi_t)\n",
    "    res = x_i - step * g_i\n",
    "    return res, g_i"
   ]
  },
  {
   "cell_type": "code",
   "execution_count": 34,
   "metadata": {},
   "outputs": [],
   "source": [
    "x_star = np.hstack([(-np.linalg.inv(A + A.T + B + B.T) @ b).reshape(-1, 1), np.array([0, 0]).reshape(-1, 1)])\n",
    "\n",
    "def loss():\n",
    "    return np.linalg.norm(X - x_star) ** 2"
   ]
  },
  {
   "cell_type": "code",
   "execution_count": 35,
   "metadata": {},
   "outputs": [],
   "source": [
    "def draw(loss_hist):\n",
    "    clear_output(wait=True)\n",
    "    plt.figure(figsize=(15, 8))\n",
    "    plt.title(\"Gradient graphic\")\n",
    "    plt.xlabel(\"#iteration\")\n",
    "    plt.ylabel(\"gradient norm\")\n",
    "    plt.yscale(\"linear\")\n",
    "    plt.plot(loss_hist, \"c\")\n",
    "    plt.show()"
   ]
  },
  {
   "cell_type": "code",
   "execution_count": 36,
   "metadata": {},
   "outputs": [
    {
     "data": {
      "image/png": "[encoded data removed]",
      "text/plain": [
       "<Figure size 1080x576 with 1 Axes>"
      ]
     },
     "metadata": {
      "needs_background": "light"
     },
     "output_type": "display_data"
    },
    {
     "name": "stdout",
     "output_type": "stream",
     "text": [
      "Grad: 0.05106277243681202\n"
     ]
    }
   ],
   "source": [
    "loss_history = []\n",
    "for t in range(T):\n",
    "    W_t = mixing_matrix(mixing_matrix_distr(t))\n",
    "    upd_list = ray.get([gradient_update.remote(gradF[i], X[:, [i]], step_size[t]) for i in range(n)])\n",
    "    X, grad = zip(*upd_list)\n",
    "    X = np.array(X).reshape(dim, n)\n",
    "    grad = np.mean(grad, axis=1, keepdims=True)\n",
    "    grad = np.linalg.norm(grad)\n",
    "    X = X @ W_t\n",
    "    loss_history.append(loss())\n",
    "    draw(loss_history)\n",
    "print(\"Grad:\", loss_history[-1])"
   ]
  },
  {
   "cell_type": "markdown",
   "metadata": {},
   "source": [
    "Let's try $W = \\frac{1}{d}E:$"
   ]
  },
  {
   "cell_type": "code",
   "execution_count": 37,
   "metadata": {},
   "outputs": [],
   "source": [
    "np.random.seed(random_seed)\n",
    "\n",
    "X = np.random.uniform(0, 1, (dim, n))\n",
    "step_size = np.ones(T) * 0.01\n",
    "gradF = [gradF1, gradF2]"
   ]
  },
  {
   "cell_type": "code",
   "execution_count": 38,
   "metadata": {},
   "outputs": [
    {
     "data": {
      "image/png": "[encoded data removed]",
      "text/plain": [
       "<Figure size 1080x576 with 1 Axes>"
      ]
     },
     "metadata": {
      "needs_background": "light"
     },
     "output_type": "display_data"
    },
    {
     "name": "stdout",
     "output_type": "stream",
     "text": [
      "Grad: 0.09497230499698107\n"
     ]
    }
   ],
   "source": [
    "loss_history = []\n",
    "for t in range(T):\n",
    "    W_t = np.eye(dim, dim)\n",
    "    upd_list = ray.get([gradient_update.remote(gradF[i], X[:, [i]], step_size[t]) for i in range(n)])\n",
    "    X, grad = zip(*upd_list)\n",
    "    X = np.array(X).reshape(dim, n)\n",
    "    grad = np.mean(grad, axis=1, keepdims=True)\n",
    "    grad = np.linalg.norm(grad)\n",
    "    X = X @ W_t\n",
    "    loss_history.append(loss())\n",
    "    draw(loss_history)\n",
    "print(\"Grad:\", loss_history[-1])"
   ]
  },
  {
   "cell_type": "markdown",
   "metadata": {},
   "source": [
    "# Results"
   ]
  },
  {
   "cell_type": "markdown",
   "metadata": {},
   "source": [
    "We can achieve good results, varying some parameters."
   ]
  }
 ],
 "metadata": {
  "interpreter": {
   "hash": "2f394aca7ca06fed1e6064aef884364492d7cdda3614a461e02e6407fc40ba69"
  },
  "kernelspec": {
   "display_name": "Python 3.9.5 64-bit ('base': conda)",
   "language": "python",
   "name": "python3"
  },
  "language_info": {
   "codemirror_mode": {
    "name": "ipython",
    "version": 3
   },
   "file_extension": ".py",
   "mimetype": "text/x-python",
   "name": "python",
   "nbconvert_exporter": "python",
   "pygments_lexer": "ipython3",
   "version": "3.9.5"
  },
  "orig_nbformat": 4
 },
 "nbformat": 4,
 "nbformat_minor": 2
}
