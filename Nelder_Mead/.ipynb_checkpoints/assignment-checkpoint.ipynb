{
 "cells": [
  {
   "cell_type": "markdown",
   "metadata": {},
   "source": [
    "Реализация метода Нелдера-Мида"
   ]
  },
  {
   "cell_type": "code",
   "execution_count": 17,
   "metadata": {},
   "outputs": [],
   "source": [
    "import numpy as np\n",
    "import math\n",
    "import random"
   ]
  },
  {
   "cell_type": "markdown",
   "metadata": {},
   "source": [
    "Пусть нам дана некоторая векторная функция в $\\mathbb{R}^2$. "
   ]
  },
  {
   "cell_type": "code",
   "execution_count": 7,
   "metadata": {},
   "outputs": [],
   "source": [
    "def test_func(coord):\n",
    "    x = coord[0]\n",
    "    y = coord[1]\n",
    "    return math.sin(y) * math.exp((1 - math.cos(x)) ** 2) + \\\n",
    "         + math.cos(x) * math.exp((1 - math.sin(y)) ** 2) + \\\n",
    "         + (x - y) ** 2"
   ]
  },
  {
   "cell_type": "markdown",
   "metadata": {},
   "source": [
    "Разобъём алгоритм на отдельные части."
   ]
  },
  {
   "cell_type": "markdown",
   "metadata": {},
   "source": [
    "Шаг 1. Сначала выберем начальные точки симплекса. Их будем пока что выбирать случайно."
   ]
  },
  {
   "cell_type": "code",
   "execution_count": 15,
   "metadata": {},
   "outputs": [],
   "source": [
    "def GetRandCoord(bounds):\n",
    "    return np.array([random.uniform(coord[0], coord[1]) for coord in bounds])\n",
    "\n",
    "def GetInitialPoints(bounds):\n",
    "    return np.array([GetRandCoord(bounds) for _ in range(len(bounds) + 1)])"
   ]
  },
  {
   "cell_type": "markdown",
   "metadata": {},
   "source": [
    "Шаг 2. Отсортируем полученные точки по убыванию значения данной функции на полученных точках."
   ]
  },
  {
   "cell_type": "code",
   "execution_count": 29,
   "metadata": {},
   "outputs": [],
   "source": [
    "def SortPoints(points, func):\n",
    "    values = np.array(list(map(func, points)))\n",
    "    sorted_args = np.argsort(values)[::-1]\n",
    "    return np.array(points)[sorted_args], np.array(values)[sorted_args]"
   ]
  },
  {
   "cell_type": "markdown",
   "metadata": {},
   "source": [
    "Шаг 3. Найдём центр масс всех точек, не включая точку, с наибольшим значением функции."
   ]
  },
  {
   "cell_type": "code",
   "execution_count": 32,
   "metadata": {},
   "outputs": [],
   "source": [
    "def MassCentre(array):\n",
    "    return np.mean(array)"
   ]
  },
  {
   "cell_type": "markdown",
   "metadata": {},
   "source": [
    "Шаг 4. Найдём отражённую точку."
   ]
  },
  {
   "cell_type": "code",
   "execution_count": 39,
   "metadata": {},
   "outputs": [],
   "source": [
    "def GetReflected(x_central, x_highest, alpha):\n",
    "    x_ref = (1 + alpha) * x_central - alpha * x_highest\n",
    "    return x_ref"
   ]
  },
  {
   "cell_type": "markdown",
   "metadata": {},
   "source": [
    "Шаг 5. Исследуем, насколько малое значение отраженной точки мы получили, относительно других точек."
   ]
  },
  {
   "cell_type": "code",
   "execution_count": 40,
   "metadata": {},
   "outputs": [],
   "source": [
    "def GetExtended(x_central, x_reflected, gamma):\n",
    "    return (1 - gamma) * x_central - gamma * x_reflected"
   ]
  },
  {
   "cell_type": "code",
   "execution_count": 41,
   "metadata": {},
   "outputs": [],
   "source": [
    "def GetShrinked(x_highest, x_central, betta):\n",
    "    return betta * x_highest + (1 - betta) * x_central"
   ]
  },
  {
   "cell_type": "code",
   "execution_count": 45,
   "metadata": {},
   "outputs": [],
   "source": [
    "def Homothety(sorted_array):\n",
    "    return np.array([sorted_array[-1] + (x_i - sorted_array[-1]) / 2 for x_i in sorted_array])"
   ]
  },
  {
   "cell_type": "code",
   "execution_count": 59,
   "metadata": {},
   "outputs": [],
   "source": [
    "def Nelder_Mead_algorithm( func, bounds, alpha = 1, betta = 0.5, gamma = 2):\n",
    "    \n",
    "    # 1. Initializing\n",
    "    points = GetInitialPoints(bounds)\n",
    "    all_simpleces = []\n",
    "    \n",
    "    for iter in range(101):\n",
    "        # 2. Sorting\n",
    "        points, values = SortPoints(points, func)\n",
    "\n",
    "        x_highest = points[0]\n",
    "        x_g = points[1]\n",
    "        x_lowest = points[-1]\n",
    "        all_simpleces.append(np.array([x_highest, x_g, x_lowest]))\n",
    "        #print(\"POINTS:\", x_highest, x_g, x_lowest)\n",
    "\n",
    "        f_highest = values[0]\n",
    "        f_g = values[1]\n",
    "        f_lowest = values[-1]\n",
    "\n",
    "        # 3. Calculating centre\n",
    "        x_central = MassCentre(points[1:])\n",
    "\n",
    "        # 4. Reflecting\n",
    "        x_reflected = GetReflected(x_central, x_highest, alpha)\n",
    "        f_reflected = func(x_reflected)\n",
    "\n",
    "        # 5. Exploring value of the function in the reflected point\n",
    "        needs_compression = False\n",
    "        if f_reflected < f_lowest:\n",
    "            x_extended = GetExtended(x_central, x_reflected, gamma)\n",
    "            f_extended = func(x_extended)\n",
    "\n",
    "            if f_extended < f_reflected:\n",
    "                points[0] = x_extended\n",
    "            else:\n",
    "                points[0] = x_reflected\n",
    "\n",
    "        elif f_reflected < f_g:\n",
    "            points[0] = x_reflected\n",
    "\n",
    "        elif f_reflected < f_highest:\n",
    "            x_reflected, x_highest = x_highest, x_reflected\n",
    "            f_reflected, f_highest = f_highest, f_reflected\n",
    "            points[0] = x_reflected\n",
    "            needs_compression = True\n",
    "\n",
    "        else:\n",
    "            needs_compression = True\n",
    "\n",
    "        if needs_compression:\n",
    "\n",
    "            # 6. Compression\n",
    "            x_shrinked = GetShrinked(x_highest, x_central, betta)\n",
    "            f_shrinked = func(x_shrinked)\n",
    "\n",
    "            # 7.Shrinked is good\n",
    "            if f_shrinked < f_highest:\n",
    "                points[0] = x_shrinked\n",
    "            # 8. Global compression\n",
    "            else:\n",
    "                x_highest = x_lowest + (x_highest - x_lowest) / 2\n",
    "                x_g = x_lowest + (x_g - x_lowest) / 2\n",
    "                points = Homothety(points)\n",
    "\n",
    "        # 9. Check variation\n",
    "        deviation = np.std( points, axis = 0)\n",
    "        #print(\"iter:\", iter, \"deviation:\", deviation)\n",
    "        \n",
    "    return all_simpleces, deviation"
   ]
  },
  {
   "cell_type": "code",
   "execution_count": 56,
   "metadata": {},
   "outputs": [],
   "source": [
    "bounds = [[0, 11], [0, 11]]"
   ]
  },
  {
   "cell_type": "markdown",
   "metadata": {},
   "source": [
    "Несложно увидеть, что при разных начальных точках мы сходимся к разным точкам."
   ]
  },
  {
   "cell_type": "code",
   "execution_count": 60,
   "metadata": {},
   "outputs": [
    {
     "name": "stdout",
     "output_type": "stream",
     "text": [
      "Values: [-0.14149357  7.51360924 27.13617678]\n"
     ]
    },
    {
     "ename": "AttributeError",
     "evalue": "'numpy.ndarray' object has no attribute 'append'",
     "output_type": "error",
     "traceback": [
      "\u001b[0;31m---------------------------------------------------------------------------\u001b[0m",
      "\u001b[0;31mAttributeError\u001b[0m                            Traceback (most recent call last)",
      "\u001b[0;32m/tmp/ipykernel_30223/4027579426.py\u001b[0m in \u001b[0;36m<module>\u001b[0;34m\u001b[0m\n\u001b[1;32m      1\u001b[0m \u001b[0;32mfor\u001b[0m \u001b[0m_\u001b[0m \u001b[0;32min\u001b[0m \u001b[0mrange\u001b[0m\u001b[0;34m(\u001b[0m\u001b[0;36m5\u001b[0m\u001b[0;34m)\u001b[0m\u001b[0;34m:\u001b[0m\u001b[0;34m\u001b[0m\u001b[0;34m\u001b[0m\u001b[0m\n\u001b[0;32m----> 2\u001b[0;31m     \u001b[0msimpleces\u001b[0m\u001b[0;34m,\u001b[0m \u001b[0mdeviation\u001b[0m \u001b[0;34m=\u001b[0m \u001b[0mNelder_Mead_algorithm\u001b[0m\u001b[0;34m(\u001b[0m\u001b[0mtest_func\u001b[0m\u001b[0;34m,\u001b[0m \u001b[0mbounds\u001b[0m\u001b[0;34m)\u001b[0m\u001b[0;34m\u001b[0m\u001b[0;34m\u001b[0m\u001b[0m\n\u001b[0m\u001b[1;32m      3\u001b[0m     \u001b[0mprint\u001b[0m\u001b[0;34m(\u001b[0m\u001b[0;34m\"Start points:\"\u001b[0m\u001b[0;34m,\u001b[0m \u001b[0msimpleces\u001b[0m\u001b[0;34m[\u001b[0m\u001b[0;36m0\u001b[0m\u001b[0;34m]\u001b[0m\u001b[0;34m,\u001b[0m \u001b[0;34m\"Limit point:\"\u001b[0m\u001b[0;34m,\u001b[0m \u001b[0mnp\u001b[0m\u001b[0;34m.\u001b[0m\u001b[0mmean\u001b[0m\u001b[0;34m(\u001b[0m\u001b[0msimpleces\u001b[0m\u001b[0;34m[\u001b[0m\u001b[0;34m-\u001b[0m\u001b[0;36m1\u001b[0m\u001b[0;34m]\u001b[0m\u001b[0;34m)\u001b[0m\u001b[0;34m)\u001b[0m\u001b[0;34m\u001b[0m\u001b[0;34m\u001b[0m\u001b[0m\n",
      "\u001b[0;32m/tmp/ipykernel_30223/1833580230.py\u001b[0m in \u001b[0;36mNelder_Mead_algorithm\u001b[0;34m(func, bounds, alpha, betta, gamma)\u001b[0m\n\u001b[1;32m     12\u001b[0m         \u001b[0mx_g\u001b[0m \u001b[0;34m=\u001b[0m \u001b[0mpoints\u001b[0m\u001b[0;34m[\u001b[0m\u001b[0;36m1\u001b[0m\u001b[0;34m]\u001b[0m\u001b[0;34m\u001b[0m\u001b[0;34m\u001b[0m\u001b[0m\n\u001b[1;32m     13\u001b[0m         \u001b[0mx_lowest\u001b[0m \u001b[0;34m=\u001b[0m \u001b[0mpoints\u001b[0m\u001b[0;34m[\u001b[0m\u001b[0;34m-\u001b[0m\u001b[0;36m1\u001b[0m\u001b[0;34m]\u001b[0m\u001b[0;34m\u001b[0m\u001b[0;34m\u001b[0m\u001b[0m\n\u001b[0;32m---> 14\u001b[0;31m         \u001b[0mall_simpleces\u001b[0m\u001b[0;34m.\u001b[0m\u001b[0mappend\u001b[0m\u001b[0;34m(\u001b[0m\u001b[0mnp\u001b[0m\u001b[0;34m.\u001b[0m\u001b[0marray\u001b[0m\u001b[0;34m(\u001b[0m\u001b[0;34m[\u001b[0m\u001b[0mx_highest\u001b[0m\u001b[0;34m,\u001b[0m \u001b[0mx_g\u001b[0m\u001b[0;34m,\u001b[0m \u001b[0mx_lowest\u001b[0m\u001b[0;34m]\u001b[0m\u001b[0;34m)\u001b[0m\u001b[0;34m)\u001b[0m\u001b[0;34m\u001b[0m\u001b[0;34m\u001b[0m\u001b[0m\n\u001b[0m\u001b[1;32m     15\u001b[0m         \u001b[0;31m#print(\"POINTS:\", x_highest, x_g, x_lowest)\u001b[0m\u001b[0;34m\u001b[0m\u001b[0;34m\u001b[0m\u001b[0;34m\u001b[0m\u001b[0m\n\u001b[1;32m     16\u001b[0m \u001b[0;34m\u001b[0m\u001b[0m\n",
      "\u001b[0;31mAttributeError\u001b[0m: 'numpy.ndarray' object has no attribute 'append'"
     ]
    }
   ],
   "source": [
    "for _ in range(5):\n",
    "    simpleces, deviation = Nelder_Mead_algorithm(test_func, bounds)\n",
    "    print(\"Start points:\", simpleces[0], \"Limit point:\", np.mean(simpleces[-1]))"
   ]
  }
 ],
 "metadata": {
  "kernelspec": {
   "display_name": "Python 3 (ipykernel)",
   "language": "python",
   "name": "python3"
  },
  "language_info": {
   "codemirror_mode": {
    "name": "ipython",
    "version": 3
   },
   "file_extension": ".py",
   "mimetype": "text/x-python",
   "name": "python",
   "nbconvert_exporter": "python",
   "pygments_lexer": "ipython3",
   "version": "3.9.5"
  }
 },
 "nbformat": 4,
 "nbformat_minor": 2
}
